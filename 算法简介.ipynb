{
 "cells": [
  {
   "cell_type": "code",
   "execution_count": 7,
   "metadata": {},
   "outputs": [
    {
     "name": "stdout",
     "output_type": "stream",
     "text": [
      "0\n"
     ]
    }
   ],
   "source": [
    "# 二分查找\n",
    "def binary_search(s,i):\n",
    "    low=0\n",
    "    high=len(s)-1\n",
    "    while low<=high:\n",
    "        mid=(low+high)//2\n",
    "        if i == s[mid]:\n",
    "            return mid\n",
    "        elif i<s[mid]:\n",
    "            high=mid-1\n",
    "        else:\n",
    "            low=mid+1\n",
    "    return None  \n",
    "s=[3,32,23,3]\n",
    "i=3\n",
    "print(binary_search(s,i))\n"
   ]
  },
  {
   "cell_type": "raw",
   "metadata": {},
   "source": [
    "# 快速排序 nlogn\n",
    "# 简单排序 n^2\n",
    "选择排序\n",
    "链表插入、删除方便O（1），读取不方便O（n）\n",
    "数组读取方便O(1)，添加、删除不方便O(n)\n",
    "视你读取和插入的次数来选择数组或链表\n",
    "一般数组使用的更多一些，因为它支持随机访问。\n",
    "链表数组（即由链表构成的数组），通过数组来实现快速访问，而通过链表来实现元素的增删。\n",
    "选择排序：架设在数组链表和大O算法之上\n",
    "每次都需要找到最大的（需要n）一共找n次，复杂度为O（n^2),忽略掉了常数。\n"
   ]
  },
  {
   "cell_type": "code",
   "execution_count": 12,
   "metadata": {},
   "outputs": [
    {
     "name": "stdout",
     "output_type": "stream",
     "text": [
      "[53, 35, 23, 3]\n"
     ]
    }
   ],
   "source": [
    "# 选择排序\n",
    "def search_sort(s):\n",
    "    sort=[]\n",
    "    for i in range(len(s)):\n",
    "        sort.append(s.pop(find_max(s)))\n",
    "    return sort\n",
    "     \n",
    "def find_max(s):\n",
    "    max=s[0]\n",
    "    max_index=0\n",
    "    for i in range(len(s)):\n",
    "        if s[i]>max:\n",
    "            max=s[i]\n",
    "            max_index=i\n",
    "    return max_index\n",
    "s=[3,53,35,23]\n",
    "print(search_sort(s))"
   ]
  },
  {
   "cell_type": "markdown",
   "metadata": {},
   "source": [
    "# 递归\n",
    "分清基线条件和递归条件\n",
    "基线条件：函数停止运行的条件\n",
    "递归条件：函数调用自己的条件\n",
    "为解决递归这一问题，引入新的数据结构，栈\n",
    "调用栈：调用另一个函数时，当前函数暂停处于为完成状态，在被调用的函数完成之后，当前函数再从离开的地方继续执行。\n",
    "递归调用栈：（通过栈来更好地理解递归）"
   ]
  },
  {
   "cell_type": "code",
   "execution_count": 20,
   "metadata": {},
   "outputs": [
    {
     "name": "stdout",
     "output_type": "stream",
     "text": [
      "120\n"
     ]
    }
   ],
   "source": [
    "def fac(x):\n",
    "    if x==1:\n",
    "        return 1\n",
    "    else:\n",
    "        return x*fac(x-1)\n",
    "print(fac(5))"
   ]
  },
  {
   "cell_type": "markdown",
   "metadata": {},
   "source": [
    "# 快速排序\n",
    "学习分而治之：使用各种已掌握的问题解决方法，是一种递归式问题解决方法。\n",
    "两个步骤：1、找出基线条件，条件要尽量简单。\n",
    "       2、不断将问题分解，直到满足基线条件。\n",
    "快速排序的基线条件：数组为空或只有一个元素。\n",
    "递归条件：将问题缩小，且不断靠近基线条件。\n",
    "快速排序的速度基于所选择的基值，最坏时是n^2\n",
    "合并排序的运行时间nlogn.\n",
    "为什么不选择合并排序而选择递归排序？\n",
    "因为实际运行时间=运行时间 * 常量c, 而合并排序的常量c(操作时间）要大于快速排序。\n"
   ]
  },
  {
   "cell_type": "code",
   "execution_count": 27,
   "metadata": {},
   "outputs": [
    {
     "data": {
      "text/plain": [
       "[3, 23, 35, 53]"
      ]
     },
     "execution_count": 27,
     "metadata": {},
     "output_type": "execute_result"
    }
   ],
   "source": [
    "def quick_sort(s):\n",
    "    if len(s)<2:\n",
    "        return s  \n",
    "    else:\n",
    "        p=s[0]\n",
    "        low=[i for i in s if i<p]\n",
    "        high=[i for i in s if i>p]\n",
    "        \n",
    "        return quick_sort(low)+[p]+quick_sort(high)\n",
    "s=[3,53,35,23]\n",
    "quick_sort(s)"
   ]
  },
  {
   "cell_type": "markdown",
   "metadata": {},
   "source": [
    "# 散列表\n",
    "散列函数：无论输入何种数据，返回一个数字。还应满足一致性和互斥性。\n",
    "散列表：包含额外逻辑的数据结构（数组和链表是直接映射到内存上。），也被称为散列映射，映射，字典和关联数组。\n",
    "python的散列表即为字典。\n",
    "散列表用于查找时O(1)时间，还可以用来防止重复，将散列表用来缓存。\n",
    "防止冲突：当两个键映射到同一个值上时，在该值上建立一个链表。此时最糟时间为O(n)\n",
    "O(1)时间不是指一个即刻时间，而是一个常量时间。"
   ]
  },
  {
   "cell_type": "markdown",
   "metadata": {},
   "source": [
    "# 广度优先搜索\n",
    "利用到了队列的思想，先入先出，直到先入的搜索完毕。\n",
    "通过散列表来实现，将一个映射到多个，多个映射到更多。层层递进。\n",
    "其运行时间为O(E+V),边数和点数。\n",
    "树是特殊的图，他将使得不存在向反方向指向的边。"
   ]
  },
  {
   "cell_type": "code",
   "execution_count": 28,
   "metadata": {},
   "outputs": [
    {
     "name": "stdout",
     "output_type": "stream",
     "text": [
      "{'1': [1, 35, 3, 2, 3]}\n"
     ]
    }
   ],
   "source": [
    "# 在 python 中，通过deque实现队列\n",
    "from collections import deque\n",
    "search_deque=deque()\n",
    "# 为防止遍历过的点再次被放入，设置一个列表来对已访问的点进行记录。"
   ]
  },
  {
   "cell_type": "markdown",
   "metadata": {},
   "source": [
    "# 迪克斯特拉算法\n",
    "有权图的最短路径。只适用于有向无环图，且无负边。\n",
    "列出所有节点，不断更新到此节点的值并选取最小。"
   ]
  },
  {
   "cell_type": "code",
   "execution_count": 36,
   "metadata": {},
   "outputs": [],
   "source": [
    "graph={}\n",
    "# 因为包含权重，所以使用散列表的散列表来实现。\n",
    "graph['start']={}\n",
    "graph['start']['a']=2\n",
    "graph['start']['b']=6\n",
    "graph['a']={}\n",
    "graph['a']['fin']=1\n",
    "\n",
    "graph['b']={}\n",
    "graph['b']['a']=3\n",
    "graph['b']['fin']=5\n",
    " \n",
    "graph['fin']={}"
   ]
  },
  {
   "cell_type": "code",
   "execution_count": 37,
   "metadata": {},
   "outputs": [
    {
     "name": "stdout",
     "output_type": "stream",
     "text": [
      "{'start': {'a': 2, 'b': 6}, 'a': {'fin': 1}, 'b': {'a': 3, 'fin': 5}, 'fin': {}}\n"
     ]
    }
   ],
   "source": [
    "print(graph)"
   ]
  },
  {
   "cell_type": "code",
   "execution_count": 38,
   "metadata": {},
   "outputs": [],
   "source": [
    "infinity=float('inf')\n",
    "costs={}\n",
    "costs['a']=6\n",
    "costs['b']=2\n",
    "costs['fin']=infinity\n",
    "\n",
    "parents={}\n",
    "parents['a']='start'\n",
    "parents['b']='start'\n",
    "parents['fin']=None\n",
    "\n",
    "processed=[]\n"
   ]
  },
  {
   "cell_type": "code",
   "execution_count": null,
   "metadata": {},
   "outputs": [],
   "source": [
    "def f_low(costs):\n",
    "    low_cost=infinity\n",
    "    low_cost_node=None\n",
    "    for node in costs:\n",
    "        if costs[node]<low_cost and node not in processed:\n",
    "            low_cost=costs[node]\n",
    "            low_cost_node=node\n",
    "        return low_cost_node\n",
    "    \n",
    "node=f_low(costs)\n",
    "while node!=None:\n",
    "    cost=costs[node]\n",
    "    neighbors=graph[node]\n",
    "    for n in neighbors.keys():\n",
    "        new_cost=cost+neighbors[n]\n",
    "        if costs[n]>new_cost:\n",
    "            costs[n]=new_cost\n",
    "            parents[n]=node\n",
    "        processed.append(n)\n",
    "    node=f_low(costs)\n",
    "\n",
    "print(costs['fin'])"
   ]
  },
  {
   "cell_type": "markdown",
   "metadata": {},
   "source": [
    "# 贪心算法"
   ]
  },
  {
   "cell_type": "markdown",
   "metadata": {},
   "source": [
    "# 动态规划\n",
    "先解决子问题，再逐步解决原始问题。\n",
    "只有当子问题是离散的（即互不依赖，才可以使用动态规划）\n",
    "背包问题的解决，将资源根据限制进行分割，在分割的资源下求最大。\n",
    "如何设计出动态规划问题：\n",
    "1、动态规划都涉及网格\n",
    "2、单元格中的值通常是需要被优化的值\n",
    "3、每个单元格都是一个子问题，如何把问题分解为子问题有助于坐标轴的建立。\n",
    "关键在于公式的建立。如背包问题、最长公共子序列、最长公共子串，单元格中的每一个值如何计算，怎么通过坐标来计算。\n"
   ]
  },
  {
   "cell_type": "markdown",
   "metadata": {},
   "source": [
    "# 二叉查找树\n",
    "查找时间平均为O(logn),最差为O(n),相较于有序数组来说，它的插入和删除都要快，为O(logn)。\n",
    "可深入研究的范围：红黑树、B树、堆、伸展树\n",
    "# 反向索引\n",
    "\n"
   ]
  }
 ],
 "metadata": {
  "kernelspec": {
   "display_name": "Python 3",
   "language": "python",
   "name": "python3"
  },
  "language_info": {
   "codemirror_mode": {
    "name": "ipython",
    "version": 3
   },
   "file_extension": ".py",
   "mimetype": "text/x-python",
   "name": "python",
   "nbconvert_exporter": "python",
   "pygments_lexer": "ipython3",
   "version": "3.7.1"
  }
 },
 "nbformat": 4,
 "nbformat_minor": 2
}
